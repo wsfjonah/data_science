{
 "cells": [
  {
   "cell_type": "markdown",
   "metadata": {},
   "source": [
    "# Site Summary"
   ]
  },
  {
   "cell_type": "markdown",
   "metadata": {},
   "source": [
    "## Setup"
   ]
  },
  {
   "cell_type": "code",
   "execution_count": 1,
   "metadata": {},
   "outputs": [],
   "source": [
    "from pandas import DataFrame\n",
    "import numpy as np\n",
    "import time\n",
    "\n",
    "import reporting.common.system as system\n",
    "import reporting.services.site.site_service as site_service\n",
    "import reporting.services.tsda.tsda_service as tsda_service"
   ]
  },
  {
   "cell_type": "code",
   "execution_count": 2,
   "metadata": {},
   "outputs": [],
   "source": [
    "curr_proj = system.get_curr_proj()"
   ]
  },
  {
   "cell_type": "markdown",
   "metadata": {},
   "source": [
    "## Define"
   ]
  },
  {
   "cell_type": "code",
   "execution_count": 3,
   "metadata": {},
   "outputs": [],
   "source": [
    "SENSOR_TYPE = 'pressure'\n",
    "\n",
    "def show_cell(val):\n",
    "    print(val)\n",
    "    color='red' if val == 'I' else 'green'\n",
    "    return 'color:%s'% color"
   ]
  },
  {
   "cell_type": "markdown",
   "metadata": {},
   "source": [
    "## Generate Table"
   ]
  },
  {
   "cell_type": "code",
   "execution_count": 4,
   "metadata": {},
   "outputs": [
    {
     "name": "stdout",
     "output_type": "stream",
     "text": [
      "Generate Site Summary Table for Project: shlingang on sensor pressure\n"
     ]
    }
   ],
   "source": [
    "print(\"Generate Site Summary Table for Project: \"+curr_proj+\" on sensor \"+SENSOR_TYPE)"
   ]
  },
  {
   "cell_type": "code",
   "execution_count": 5,
   "metadata": {},
   "outputs": [
    {
     "name": "stderr",
     "output_type": "stream",
     "text": [
      "2019-05-12 21:40:37,080 -     root -     INFO: MONGO_CLIENT not defined, initialized MongoDB Client.\n"
     ]
    }
   ],
   "source": [
    "sitetable = []\n",
    "for site in site_service.get_all_sites():\n",
    "    # print(site)\n",
    "    if not site['device_ref'].startswith('004'): continue\n",
    "    t,v = tsda_service.read_last(str(site['_id'])+'-'+SENSOR_TYPE)\n",
    "    sitetable.append([str(site['_id']),site['name'],site['device_ref'],site['status'],\n",
    "                      time.strftime(\"%Y-%m-%d %H:%M:%S\", time.localtime(int(t)/1000)),\"%.2f\" % float(v)])\n",
    "    \n",
    "# sitetable"
   ]
  },
  {
   "cell_type": "code",
   "execution_count": 6,
   "metadata": {},
   "outputs": [
    {
     "data": {
      "text/html": [
       "<div>\n",
       "<style scoped>\n",
       "    .dataframe tbody tr th:only-of-type {\n",
       "        vertical-align: middle;\n",
       "    }\n",
       "\n",
       "    .dataframe tbody tr th {\n",
       "        vertical-align: top;\n",
       "    }\n",
       "\n",
       "    .dataframe thead th {\n",
       "        text-align: right;\n",
       "    }\n",
       "</style>\n",
       "<table border=\"1\" class=\"dataframe\">\n",
       "  <thead>\n",
       "    <tr style=\"text-align: right;\">\n",
       "      <th></th>\n",
       "      <th>ID</th>\n",
       "      <th>Name</th>\n",
       "      <th>Reference</th>\n",
       "      <th>Status</th>\n",
       "      <th>Last Time</th>\n",
       "      <th>Last Reading</th>\n",
       "    </tr>\n",
       "  </thead>\n",
       "  <tbody>\n",
       "    <tr>\n",
       "      <th>0</th>\n",
       "      <td>5a6eb4e70b272a1f64fa26b5</td>\n",
       "      <td>万水路新元南路</td>\n",
       "      <td>00422002</td>\n",
       "      <td>N</td>\n",
       "      <td>2019-05-12 21:40:25</td>\n",
       "      <td>5.86</td>\n",
       "    </tr>\n",
       "    <tr>\n",
       "      <th>1</th>\n",
       "      <td>5a6eb4e70b272a1f64fa26b6</td>\n",
       "      <td>沧海路中（中港柴油机制造）</td>\n",
       "      <td>00422001</td>\n",
       "      <td>N</td>\n",
       "      <td>2019-05-12 21:23:45</td>\n",
       "      <td>75.88</td>\n",
       "    </tr>\n",
       "    <tr>\n",
       "      <th>2</th>\n",
       "      <td>5a6eb4e70b272a1f64fa26b7</td>\n",
       "      <td>南芦公路（芦潮港，果园泵站）</td>\n",
       "      <td>00422004</td>\n",
       "      <td>N</td>\n",
       "      <td>2019-05-12 21:24:15</td>\n",
       "      <td>5.76</td>\n",
       "    </tr>\n",
       "    <tr>\n",
       "      <th>3</th>\n",
       "      <td>5a6eb4e70b272a1f64fa26b8</td>\n",
       "      <td>芦五公路</td>\n",
       "      <td>00422003</td>\n",
       "      <td>N</td>\n",
       "      <td>2019-05-12 21:19:25</td>\n",
       "      <td>75.78</td>\n",
       "    </tr>\n",
       "    <tr>\n",
       "      <th>4</th>\n",
       "      <td>5a6eb4e70b272a1f64fa26b9</td>\n",
       "      <td>倚天路沧海路</td>\n",
       "      <td>00422005</td>\n",
       "      <td>N</td>\n",
       "      <td>2019-05-12 21:40:25</td>\n",
       "      <td>40.71</td>\n",
       "    </tr>\n",
       "    <tr>\n",
       "      <th>5</th>\n",
       "      <td>5a6eb4e70b272a1f64fa26bc</td>\n",
       "      <td>层林路沧海路（上海电气）</td>\n",
       "      <td>00422006</td>\n",
       "      <td>I</td>\n",
       "      <td>2019-05-12 21:40:25</td>\n",
       "      <td>20.70</td>\n",
       "    </tr>\n",
       "  </tbody>\n",
       "</table>\n",
       "</div>"
      ],
      "text/plain": [
       "                         ID            Name Reference Status  \\\n",
       "0  5a6eb4e70b272a1f64fa26b5         万水路新元南路  00422002      N   \n",
       "1  5a6eb4e70b272a1f64fa26b6   沧海路中（中港柴油机制造）  00422001      N   \n",
       "2  5a6eb4e70b272a1f64fa26b7  南芦公路（芦潮港，果园泵站）  00422004      N   \n",
       "3  5a6eb4e70b272a1f64fa26b8            芦五公路  00422003      N   \n",
       "4  5a6eb4e70b272a1f64fa26b9          倚天路沧海路  00422005      N   \n",
       "5  5a6eb4e70b272a1f64fa26bc    层林路沧海路（上海电气）  00422006      I   \n",
       "\n",
       "             Last Time Last Reading  \n",
       "0  2019-05-12 21:40:25         5.86  \n",
       "1  2019-05-12 21:23:45        75.88  \n",
       "2  2019-05-12 21:24:15         5.76  \n",
       "3  2019-05-12 21:19:25        75.78  \n",
       "4  2019-05-12 21:40:25        40.71  \n",
       "5  2019-05-12 21:40:25        20.70  "
      ]
     },
     "execution_count": 6,
     "metadata": {},
     "output_type": "execute_result"
    }
   ],
   "source": [
    "df = DataFrame(sitetable, columns = ['ID','Name','Reference','Status','Last Time','Last Reading'])\n",
    "\n",
    "df.to_csv(\"site_summary_\"+time.strftime(\"%Y-%m-%d-%H-%M\", time.localtime())+\".csv\")\n",
    "df"
   ]
  },
  {
   "cell_type": "code",
   "execution_count": null,
   "metadata": {},
   "outputs": [],
   "source": []
  }
 ],
 "metadata": {
  "kernelspec": {
   "display_name": "Python 3",
   "language": "python",
   "name": "python3"
  },
  "language_info": {
   "codemirror_mode": {
    "name": "ipython",
    "version": 3
   },
   "file_extension": ".py",
   "mimetype": "text/x-python",
   "name": "python",
   "nbconvert_exporter": "python",
   "pygments_lexer": "ipython3",
   "version": "3.7.2"
  },
  "toc": {
   "base_numbering": 1,
   "nav_menu": {},
   "number_sections": true,
   "sideBar": true,
   "skip_h1_title": false,
   "title_cell": "Table of Contents",
   "title_sidebar": "Contents",
   "toc_cell": false,
   "toc_position": {
    "height": "calc(100% - 180px)",
    "left": "10px",
    "top": "150px",
    "width": "186.6px"
   },
   "toc_section_display": true,
   "toc_window_display": true
  }
 },
 "nbformat": 4,
 "nbformat_minor": 2
}
