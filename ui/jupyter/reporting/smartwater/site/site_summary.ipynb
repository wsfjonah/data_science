{
 "cells": [
  {
   "cell_type": "markdown",
   "metadata": {},
   "source": [
    "# Site Summary"
   ]
  },
  {
   "cell_type": "markdown",
   "metadata": {},
   "source": [
    "## Setup"
   ]
  },
  {
   "cell_type": "code",
   "execution_count": 2,
   "metadata": {},
   "outputs": [],
   "source": [
    "from pandas import DataFrame\n",
    "import numpy as np\n",
    "import time\n",
    "\n",
    "import reporting.common.system as system\n",
    "import reporting.services.site.site_service as site_service\n",
    "import reporting.services.tsda.tsda_service as tsda_service"
   ]
  },
  {
   "cell_type": "code",
   "execution_count": 3,
   "metadata": {},
   "outputs": [],
   "source": [
    "curr_proj = system.get_curr_proj()"
   ]
  },
  {
   "cell_type": "markdown",
   "metadata": {},
   "source": [
    "## Define"
   ]
  },
  {
   "cell_type": "code",
   "execution_count": 4,
   "metadata": {},
   "outputs": [],
   "source": [
    "SENSOR_TYPE = 'pressure'\n",
    "\n",
    "def show_cell(val):\n",
    "    print(val)\n",
    "    color='red' if val == 'I' else 'green'\n",
    "    return 'color:%s'% color"
   ]
  },
  {
   "cell_type": "markdown",
   "metadata": {},
   "source": [
    "## Generate Table"
   ]
  },
  {
   "cell_type": "code",
   "execution_count": 5,
   "metadata": {},
   "outputs": [
    {
     "name": "stdout",
     "output_type": "stream",
     "text": [
      "Generate Site Summary Table for Project: shlingang on sensor pressure\n"
     ]
    }
   ],
   "source": [
    "print(\"Generate Site Summary Table for Project: \"+curr_proj+\" on sensor \"+SENSOR_TYPE)"
   ]
  },
  {
   "cell_type": "code",
   "execution_count": 9,
   "metadata": {},
   "outputs": [],
   "source": [
    "sitetable = []\n",
    "for site in site_service.get_all_sites():\n",
    "    # print(site)\n",
    "    if not site['device_ref'].startswith('006'): continue\n",
    "    t,v = tsda_service.read_last(str(site['_id'])+'-'+SENSOR_TYPE)\n",
    "    sitetable.append([str(site['_id']),site['name'],site['device_ref'],site['status'],\n",
    "                      time.strftime(\"%Y-%m-%d %H:%M:%S\", time.localtime(int(t)/1000)),\"%.2f\" % float(v)])\n",
    "    \n",
    "# sitetable"
   ]
  },
  {
   "cell_type": "code",
   "execution_count": 10,
   "metadata": {},
   "outputs": [
    {
     "data": {
      "text/html": [
       "<div>\n",
       "<style scoped>\n",
       "    .dataframe tbody tr th:only-of-type {\n",
       "        vertical-align: middle;\n",
       "    }\n",
       "\n",
       "    .dataframe tbody tr th {\n",
       "        vertical-align: top;\n",
       "    }\n",
       "\n",
       "    .dataframe thead th {\n",
       "        text-align: right;\n",
       "    }\n",
       "</style>\n",
       "<table border=\"1\" class=\"dataframe\">\n",
       "  <thead>\n",
       "    <tr style=\"text-align: right;\">\n",
       "      <th></th>\n",
       "      <th>ID</th>\n",
       "      <th>Name</th>\n",
       "      <th>Reference</th>\n",
       "      <th>Status</th>\n",
       "      <th>Last Time</th>\n",
       "      <th>Last Reading</th>\n",
       "    </tr>\n",
       "  </thead>\n",
       "  <tbody>\n",
       "    <tr>\n",
       "      <th>0</th>\n",
       "      <td>5cf72a67e4b0d43893e88f03</td>\n",
       "      <td>江山路云水路（新昇半导体）</td>\n",
       "      <td>00605005</td>\n",
       "      <td>N</td>\n",
       "      <td>2019-06-18 08:29:00</td>\n",
       "      <td>18.73</td>\n",
       "    </tr>\n",
       "    <tr>\n",
       "      <th>1</th>\n",
       "      <td>5cf72c21e4b0d43893e88f04</td>\n",
       "      <td>南芦公路（芦潮港，果园泵站）</td>\n",
       "      <td>00605001</td>\n",
       "      <td>N</td>\n",
       "      <td>2019-06-18 08:29:00</td>\n",
       "      <td>20.59</td>\n",
       "    </tr>\n",
       "    <tr>\n",
       "      <th>2</th>\n",
       "      <td>5cf72c3ce4b0d43893e88f05</td>\n",
       "      <td>江山路倚天路</td>\n",
       "      <td>00605002</td>\n",
       "      <td>N</td>\n",
       "      <td>2019-06-18 08:29:00</td>\n",
       "      <td>16.23</td>\n",
       "    </tr>\n",
       "    <tr>\n",
       "      <th>3</th>\n",
       "      <td>5cf72c5fe4b0d43893e88f06</td>\n",
       "      <td>江山路天高路</td>\n",
       "      <td>00605003</td>\n",
       "      <td>N</td>\n",
       "      <td>2019-06-18 08:29:00</td>\n",
       "      <td>20.33</td>\n",
       "    </tr>\n",
       "    <tr>\n",
       "      <th>4</th>\n",
       "      <td>5cf72c94e4b0d43893e88f07</td>\n",
       "      <td>江山路妙香路</td>\n",
       "      <td>00605004</td>\n",
       "      <td>N</td>\n",
       "      <td>2019-06-18 08:09:00</td>\n",
       "      <td>21.49</td>\n",
       "    </tr>\n",
       "    <tr>\n",
       "      <th>5</th>\n",
       "      <td>5cf72dcde4b0d43893e88f08</td>\n",
       "      <td>芦五公路</td>\n",
       "      <td>00605006</td>\n",
       "      <td>N</td>\n",
       "      <td>2019-06-18 08:29:00</td>\n",
       "      <td>20.04</td>\n",
       "    </tr>\n",
       "    <tr>\n",
       "      <th>6</th>\n",
       "      <td>5cf72de6e4b0d43893e88f09</td>\n",
       "      <td>万水路新元南路</td>\n",
       "      <td>00605007</td>\n",
       "      <td>N</td>\n",
       "      <td>2019-06-18 08:29:00</td>\n",
       "      <td>20.03</td>\n",
       "    </tr>\n",
       "    <tr>\n",
       "      <th>7</th>\n",
       "      <td>5cf72e01e4b0d43893e88f0a</td>\n",
       "      <td>层林路沧海路（上海电气）</td>\n",
       "      <td>00605008</td>\n",
       "      <td>N</td>\n",
       "      <td>2019-06-18 08:29:00</td>\n",
       "      <td>8.38</td>\n",
       "    </tr>\n",
       "    <tr>\n",
       "      <th>8</th>\n",
       "      <td>5cf72e1de4b0d43893e88f0b</td>\n",
       "      <td>倚天路沧海路</td>\n",
       "      <td>00605009</td>\n",
       "      <td>N</td>\n",
       "      <td>2019-06-18 08:29:00</td>\n",
       "      <td>19.35</td>\n",
       "    </tr>\n",
       "    <tr>\n",
       "      <th>9</th>\n",
       "      <td>5cf72e34e4b0d43893e88f0c</td>\n",
       "      <td>沧海路中（中港柴油机制造）</td>\n",
       "      <td>00605010</td>\n",
       "      <td>N</td>\n",
       "      <td>2019-06-18 08:29:00</td>\n",
       "      <td>20.30</td>\n",
       "    </tr>\n",
       "    <tr>\n",
       "      <th>10</th>\n",
       "      <td>5cf72e4ee4b0d43893e88f0d</td>\n",
       "      <td>沧海路妙香路（五七路妙香路泵站）</td>\n",
       "      <td>00605011</td>\n",
       "      <td>N</td>\n",
       "      <td>2019-06-18 08:29:00</td>\n",
       "      <td>20.04</td>\n",
       "    </tr>\n",
       "  </tbody>\n",
       "</table>\n",
       "</div>"
      ],
      "text/plain": [
       "                          ID              Name Reference Status  \\\n",
       "0   5cf72a67e4b0d43893e88f03     江山路云水路（新昇半导体）  00605005      N   \n",
       "1   5cf72c21e4b0d43893e88f04    南芦公路（芦潮港，果园泵站）  00605001      N   \n",
       "2   5cf72c3ce4b0d43893e88f05            江山路倚天路  00605002      N   \n",
       "3   5cf72c5fe4b0d43893e88f06            江山路天高路  00605003      N   \n",
       "4   5cf72c94e4b0d43893e88f07            江山路妙香路  00605004      N   \n",
       "5   5cf72dcde4b0d43893e88f08              芦五公路  00605006      N   \n",
       "6   5cf72de6e4b0d43893e88f09           万水路新元南路  00605007      N   \n",
       "7   5cf72e01e4b0d43893e88f0a      层林路沧海路（上海电气）  00605008      N   \n",
       "8   5cf72e1de4b0d43893e88f0b            倚天路沧海路  00605009      N   \n",
       "9   5cf72e34e4b0d43893e88f0c     沧海路中（中港柴油机制造）  00605010      N   \n",
       "10  5cf72e4ee4b0d43893e88f0d  沧海路妙香路（五七路妙香路泵站）  00605011      N   \n",
       "\n",
       "              Last Time Last Reading  \n",
       "0   2019-06-18 08:29:00        18.73  \n",
       "1   2019-06-18 08:29:00        20.59  \n",
       "2   2019-06-18 08:29:00        16.23  \n",
       "3   2019-06-18 08:29:00        20.33  \n",
       "4   2019-06-18 08:09:00        21.49  \n",
       "5   2019-06-18 08:29:00        20.04  \n",
       "6   2019-06-18 08:29:00        20.03  \n",
       "7   2019-06-18 08:29:00         8.38  \n",
       "8   2019-06-18 08:29:00        19.35  \n",
       "9   2019-06-18 08:29:00        20.30  \n",
       "10  2019-06-18 08:29:00        20.04  "
      ]
     },
     "execution_count": 10,
     "metadata": {},
     "output_type": "execute_result"
    }
   ],
   "source": [
    "df = DataFrame(sitetable, columns = ['ID','Name','Reference','Status','Last Time','Last Reading'])\n",
    "\n",
    "df.to_csv(\"site_summary_\"+time.strftime(\"%Y-%m-%d-%H-%M\", time.localtime())+\".csv\")\n",
    "df"
   ]
  },
  {
   "cell_type": "code",
   "execution_count": null,
   "metadata": {},
   "outputs": [],
   "source": []
  }
 ],
 "metadata": {
  "kernelspec": {
   "display_name": "Python 3",
   "language": "python",
   "name": "python3"
  },
  "language_info": {
   "codemirror_mode": {
    "name": "ipython",
    "version": 3
   },
   "file_extension": ".py",
   "mimetype": "text/x-python",
   "name": "python",
   "nbconvert_exporter": "python",
   "pygments_lexer": "ipython3",
   "version": "3.7.2"
  },
  "toc": {
   "base_numbering": 1,
   "nav_menu": {},
   "number_sections": true,
   "sideBar": true,
   "skip_h1_title": false,
   "title_cell": "Table of Contents",
   "title_sidebar": "Contents",
   "toc_cell": false,
   "toc_position": {
    "height": "calc(100% - 180px)",
    "left": "10px",
    "top": "150px",
    "width": "186.6px"
   },
   "toc_section_display": true,
   "toc_window_display": true
  }
 },
 "nbformat": 4,
 "nbformat_minor": 2
}
